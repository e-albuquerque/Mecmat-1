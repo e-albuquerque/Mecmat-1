{
  "nbformat": 4,
  "nbformat_minor": 0,
  "metadata": {
    "colab": {
      "name": "Symbolic_Python.ipynb",
      "provenance": [],
      "collapsed_sections": [],
      "authorship_tag": "ABX9TyPoie39WKRaxfMRYc9SKW5Z",
      "include_colab_link": true
    },
    "kernelspec": {
      "name": "python3",
      "display_name": "Python 3"
    }
  },
  "cells": [
    {
      "cell_type": "markdown",
      "metadata": {
        "id": "view-in-github",
        "colab_type": "text"
      },
      "source": [
        "<a href=\"https://colab.research.google.com/github/e-albuquerque/Mecmat-1/blob/main/Symbolic_Python.ipynb\" target=\"_parent\"><img src=\"https://colab.research.google.com/assets/colab-badge.svg\" alt=\"Open In Colab\"/></a>"
      ]
    },
    {
      "cell_type": "code",
      "metadata": {
        "id": "AoMe5kmw-6HN",
        "colab": {
          "base_uri": "https://localhost:8080/"
        },
        "outputId": "eddfe536-0fce-4bf8-9e4d-9bc739d379fb"
      },
      "source": [
        "from sympy.solvers import solve\n",
        "from sympy import Symbol\n",
        "import numpy as np\n",
        "x = Symbol('x')\n",
        "solve(1300-30*x+x**2/4 -5625, x)"
      ],
      "execution_count": null,
      "outputs": [
        {
          "output_type": "execute_result",
          "data": {
            "text/plain": [
              "[60 + 10*sqrt(209), -10*sqrt(209) + 60]"
            ]
          },
          "metadata": {
            "tags": []
          },
          "execution_count": 3
        }
      ]
    },
    {
      "cell_type": "code",
      "metadata": {
        "id": "AlPIX4nW_ALg",
        "colab": {
          "base_uri": "https://localhost:8080/"
        },
        "outputId": "4c61c8b4-d042-4fbb-aaed-d3c7376d0b3c"
      },
      "source": [
        "60 + 10*np.sqrt(209)"
      ],
      "execution_count": null,
      "outputs": [
        {
          "output_type": "execute_result",
          "data": {
            "text/plain": [
              "204.5683229480096"
            ]
          },
          "metadata": {
            "tags": []
          },
          "execution_count": 4
        }
      ]
    },
    {
      "cell_type": "code",
      "metadata": {
        "id": "Ukh50owP_GnG",
        "colab": {
          "base_uri": "https://localhost:8080/"
        },
        "outputId": "4ae08078-5eb5-4fe9-8ed0-bf2380e71236"
      },
      "source": [
        " -10*np.sqrt(209) + 60"
      ],
      "execution_count": null,
      "outputs": [
        {
          "output_type": "execute_result",
          "data": {
            "text/plain": [
              "-84.56832294800961"
            ]
          },
          "metadata": {
            "tags": []
          },
          "execution_count": 5
        }
      ]
    },
    {
      "cell_type": "code",
      "metadata": {
        "id": "bAUbZV_t_VPu"
      },
      "source": [
        ""
      ],
      "execution_count": null,
      "outputs": []
    }
  ]
}