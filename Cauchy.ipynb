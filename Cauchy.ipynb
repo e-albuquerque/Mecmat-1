{
  "nbformat": 4,
  "nbformat_minor": 0,
  "metadata": {
    "colab": {
      "name": "Cauchy.ipynb",
      "provenance": [],
      "collapsed_sections": [],
      "authorship_tag": "ABX9TyMrB9x3xKWBPcKdk+bWADrO",
      "include_colab_link": true
    },
    "kernelspec": {
      "name": "python3",
      "display_name": "Python 3"
    }
  },
  "cells": [
    {
      "cell_type": "markdown",
      "metadata": {
        "id": "view-in-github",
        "colab_type": "text"
      },
      "source": [
        "<a href=\"https://colab.research.google.com/github/e-albuquerque/Mecmat-1/blob/main/Cauchy.ipynb\" target=\"_parent\"><img src=\"https://colab.research.google.com/assets/colab-badge.svg\" alt=\"Open In Colab\"/></a>"
      ]
    },
    {
      "cell_type": "markdown",
      "metadata": {
        "id": "JOFYtGtG354y"
      },
      "source": [
        "# Equações de Cauchy"
      ]
    },
    {
      "cell_type": "markdown",
      "metadata": {
        "id": "EEyzxtT74BAo"
      },
      "source": [
        "\\begin{equation}\n",
        "\\sigma_{rr}=\\frac{(\\sigma_{xx}+\\sigma_{yy})}{2}+\\frac{(\\sigma_{xx}-\\sigma_{yy})}{2}\\cos(2\\theta)+\\tau_{xy}\\sin(2\\theta)\n",
        "\\end{equation}\n",
        "\n",
        "\n",
        "\n",
        "\n",
        "\\begin{equation}\n",
        "\\tau_{rt}=-\\frac{(\\sigma_{xx}-\\sigma_{yy})}{2}\\sin(2\\theta)+\\tau_{xy}\\cos(2\\theta)\n",
        "\\end{equation}"
      ]
    },
    {
      "cell_type": "code",
      "metadata": {
        "id": "aPrMSF5Iw00z"
      },
      "source": [
        "import numpy as np\n",
        "import matplotlib.pyplot as plt"
      ],
      "execution_count": null,
      "outputs": []
    },
    {
      "cell_type": "markdown",
      "metadata": {
        "id": "z3-TaGBr_W6Y"
      },
      "source": [
        "# Exercício 7.1"
      ]
    },
    {
      "cell_type": "code",
      "metadata": {
        "id": "kr-O72wnxq7p"
      },
      "source": [
        "sigma_xx=8\n",
        "sigma_yy=4\n",
        "tau_xy=3"
      ],
      "execution_count": null,
      "outputs": []
    },
    {
      "cell_type": "code",
      "metadata": {
        "id": "bYsYKR_nzVRX"
      },
      "source": [
        "ang=20\n",
        "theta=ang*np.pi/180\n",
        "sigma_rr=(sigma_xx+sigma_yy)/2+(sigma_xx-sigma_yy)*np.cos(2*theta)/2+tau_xy*np.sin(2*theta)\n",
        "tau_rt=-(sigma_xx-sigma_yy)/2*np.sin(2*theta)+tau_xy*np.cos(2*theta)"
      ],
      "execution_count": null,
      "outputs": []
    },
    {
      "cell_type": "code",
      "metadata": {
        "id": "_-FleGmR6y6m",
        "colab": {
          "base_uri": "https://localhost:8080/",
          "height": 78
        },
        "outputId": "6e877098-f2c2-41b0-b089-759abd5fd00c"
      },
      "source": [
        "from IPython.display import display, Markdown, Latex\n",
        "\n",
        "display(Markdown(rf'$\\sigma_{\"{rr}\"}$ = {sigma_rr:5.4}'))\n",
        "display(Markdown(rf'$\\tau_{\"{rt}\"}$ = {tau_rt:5.4}'))\n"
      ],
      "execution_count": null,
      "outputs": [
        {
          "output_type": "display_data",
          "data": {
            "text/markdown": "$\\sigma_{rr}$ =  9.46",
            "text/plain": [
              "<IPython.core.display.Markdown object>"
            ]
          },
          "metadata": {
            "tags": []
          }
        },
        {
          "output_type": "display_data",
          "data": {
            "text/markdown": "$\\tau_{rt}$ = 1.013",
            "text/plain": [
              "<IPython.core.display.Markdown object>"
            ]
          },
          "metadata": {
            "tags": []
          }
        }
      ]
    },
    {
      "cell_type": "markdown",
      "metadata": {
        "id": "Vn8PzPmt_dge"
      },
      "source": [
        "# Exercício 7.2"
      ]
    },
    {
      "cell_type": "code",
      "metadata": {
        "id": "mrf0mVEm_k_4"
      },
      "source": [
        "sigma_xx=6\n",
        "sigma_yy=-10\n",
        "tau_xy=-4"
      ],
      "execution_count": null,
      "outputs": []
    },
    {
      "cell_type": "code",
      "metadata": {
        "id": "7BY-wLu6_nQO"
      },
      "source": [
        "ang=75\n",
        "theta=ang*np.pi/180\n",
        "sigma_rr=(sigma_xx+sigma_yy)/2+(sigma_xx-sigma_yy)*np.cos(2*theta)/2+tau_xy*np.sin(2*theta)\n",
        "tau_rt=-(sigma_xx-sigma_yy)/2*np.sin(2*theta)+tau_xy*np.cos(2*theta)"
      ],
      "execution_count": null,
      "outputs": []
    },
    {
      "cell_type": "code",
      "metadata": {
        "id": "dqKHbzJK_qMc",
        "colab": {
          "base_uri": "https://localhost:8080/",
          "height": 78
        },
        "outputId": "d4a6feef-f511-4d54-ffbd-d7cb0ce05683"
      },
      "source": [
        "from IPython.display import display, Markdown, Latex\n",
        "\n",
        "display(Markdown(rf'$\\sigma_{\"{rr}\"}$ = {sigma_rr:5.4}'))\n",
        "display(Markdown(rf'$\\tau_{\"{rt}\"}$ = {tau_rt:5.4}'))"
      ],
      "execution_count": null,
      "outputs": [
        {
          "output_type": "display_data",
          "data": {
            "text/markdown": "$\\sigma_{rr}$ = -10.93",
            "text/plain": [
              "<IPython.core.display.Markdown object>"
            ]
          },
          "metadata": {
            "tags": []
          }
        },
        {
          "output_type": "display_data",
          "data": {
            "text/markdown": "$\\tau_{rt}$ = -0.5359",
            "text/plain": [
              "<IPython.core.display.Markdown object>"
            ]
          },
          "metadata": {
            "tags": []
          }
        }
      ]
    },
    {
      "cell_type": "markdown",
      "metadata": {
        "id": "I6fojqmJ_t2V"
      },
      "source": [
        "# Gráfico $\\tau_{rt}  \\times \\sigma_{rr} $"
      ]
    },
    {
      "cell_type": "code",
      "metadata": {
        "id": "ovtPhb9QJy2t",
        "colab": {
          "base_uri": "https://localhost:8080/",
          "height": 314
        },
        "outputId": "4f4d3658-1e6e-4229-9374-de1ffdb8531b"
      },
      "source": [
        "npontos=100\n",
        "theta=np.linspace(0,np.pi,npontos)\n",
        "sigma_rr=(sigma_xx+sigma_yy)/2+(sigma_xx-sigma_yy)*np.cos(2*theta)/2+tau_xy*np.sin(2*theta)\n",
        "tau_rt=-(sigma_xx-sigma_yy)/2*np.sin(2*theta)+tau_xy*np.cos(2*theta)\n",
        "plt.plot(sigma_rr,tau_rt,'r-')\n",
        "plt.axis(\"tight\") # Fit the axis tightly to the plot\n",
        "plt.title(\"Tensões\",fontsize=26)\n",
        "plt.xlabel(r\"$\\sigma_{rr}$\",fontsize=20)\n",
        "plt.ylabel(r\"$\\tau_{r\\theta}$\",fontsize=20)\n",
        "plt.axis(\"equal\")\n",
        "plt.grid(\"on\")\n",
        "plt.show()\n"
      ],
      "execution_count": null,
      "outputs": [
        {
          "output_type": "display_data",
          "data": {
            "image/png": "[encoded data removed]",
            "text/plain": [
              "<Figure size 432x288 with 1 Axes>"
            ]
          },
          "metadata": {
            "tags": [],
            "needs_background": "light"
          }
        }
      ]
    },
    {
      "cell_type": "code",
      "metadata": {
        "id": "dbj0U4I1TY5b"
      },
      "source": [
        "m=np.cos(15*np.pi/180)\n",
        "n=np.sin(15*np.pi/180)\n",
        "sig=-4*m*n-10*m**2+6*n**2-4*n*m"
      ],
      "execution_count": null,
      "outputs": []
    },
    {
      "cell_type": "code",
      "metadata": {
        "id": "SLWiXZu1xdJI",
        "colab": {
          "base_uri": "https://localhost:8080/",
          "height": 35
        },
        "outputId": "1ca29d17-d5f4-4851-8d3a-87e1b21752df"
      },
      "source": [
        "sig"
      ],
      "execution_count": null,
      "outputs": [
        {
          "output_type": "execute_result",
          "data": {
            "text/plain": [
              "-10.92820323027551"
            ]
          },
          "metadata": {
            "tags": []
          },
          "execution_count": 15
        }
      ]
    },
    {
      "cell_type": "code",
      "metadata": {
        "id": "ElxO8BqpxjVk"
      },
      "source": [
        ""
      ],
      "execution_count": null,
      "outputs": []
    }
  ]
}