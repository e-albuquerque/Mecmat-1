{
  "nbformat": 4,
  "nbformat_minor": 0,
  "metadata": {
    "colab": {
      "name": "Criterios_de_falha.ipynb",
      "provenance": [],
      "collapsed_sections": [],
      "authorship_tag": "ABX9TyO+6ktya7vM0dDQPJbJJmAd",
      "include_colab_link": true
    },
    "kernelspec": {
      "name": "python3",
      "display_name": "Python 3"
    }
  },
  "cells": [
    {
      "cell_type": "markdown",
      "metadata": {
        "id": "view-in-github",
        "colab_type": "text"
      },
      "source": [
        "<a href=\"https://colab.research.google.com/github/e-albuquerque/Mecmat-1/blob/main/Criterios_de_falha.ipynb\" target=\"_parent\"><img src=\"https://colab.research.google.com/assets/colab-badge.svg\" alt=\"Open In Colab\"/></a>"
      ]
    },
    {
      "cell_type": "markdown",
      "metadata": {
        "id": "79mNmt3Mf-C_"
      },
      "source": [
        "# Critérios de Falha"
      ]
    },
    {
      "cell_type": "markdown",
      "metadata": {
        "id": "GDDGXbqHgI0f"
      },
      "source": [
        "## Critério de Tresca"
      ]
    },
    {
      "cell_type": "markdown",
      "metadata": {
        "id": "flno7b9CgOBW"
      },
      "source": [
        "$ FS_{Tresca} = $ Fator de segurança segundo o critério de Tresca\n",
        "\n",
        "$\\sigma_e =$  Limite de escoamento\n",
        "\n",
        "$\\tau_e =$ Maior tensão principal para o estado de tensão do corpo de prova no momento da falha\n",
        "\n",
        "$\\tau_{max} =$  Tensão máxima de cisalhamento\n",
        "\n",
        "$\\sigma_1 =$ Maior tensão principal\n",
        "\n",
        "$\\sigma_3 =$ Menor tensão principal\n",
        "\n",
        "\n",
        "$$ FS_{Tresca} = \\frac{\\tau_e}{\\tau_{max}}$$\n",
        "$$\\tau_e=\\frac{\\sigma_e}{2}$$\n",
        "$$\\tau_{max}=\\frac{\\sigma_1-\\sigma_3}{2}$$"
      ]
    },
    {
      "cell_type": "code",
      "metadata": {
        "id": "JB4mJJYaLz7B"
      },
      "source": [
        "import matplotlib.pyplot as plt\n",
        "import numpy as np"
      ],
      "execution_count": null,
      "outputs": []
    },
    {
      "cell_type": "code",
      "metadata": {
        "id": "HfofBUM0TerY"
      },
      "source": [
        "def calc_taumax(sigx,sigy,tauxy):\n",
        "  # Calcula a máxima tensão de cisalhamento para um\n",
        "  #     dado estado de tensão\n",
        "  sigmed=(sigx+sigy)/2\n",
        "  r=np.sqrt(((sigx-sigy)/2)**2+tauxy**2)\n",
        "  siga=sigmed+r\n",
        "  sigb=sigmed-r\n",
        "  taumax=np.max(np.array([siga/2,np.abs(sigb)/2,((siga-sigb)/2)]))\n",
        "  return taumax"
      ],
      "execution_count": null,
      "outputs": []
    },
    {
      "cell_type": "code",
      "metadata": {
        "colab": {
          "base_uri": "https://localhost:8080/"
        },
        "id": "AGa0lc8VVL9o",
        "outputId": "d9ac8ca6-a501-40c0-f9ed-27371c77a637"
      },
      "source": [
        "sigx=80\n",
        "sigy=-40\n",
        "tauxy=25\n",
        "sig_e=250\n",
        "taumax=calc_taumax(sigx,sigy,tauxy)\n",
        "taue=sig_e/2\n",
        "sigmed=(sigx+sigy)/2\n",
        "r=np.sqrt(((sigx-sigy)/2)**2+tauxy**2)\n",
        "siga=sigmed+r\n",
        "sigb=sigmed-r\n",
        "\n",
        "FSTresca=taue/taumax\n",
        "print(\"Fator de segurança segundo o critério de Tresca = \", FSTresca)"
      ],
      "execution_count": null,
      "outputs": [
        {
          "output_type": "stream",
          "text": [
            "Fator de segurança segundo o critério de Tresca =  1.9230769230769231\n"
          ],
          "name": "stdout"
        }
      ]
    },
    {
      "cell_type": "code",
      "metadata": {
        "colab": {
          "base_uri": "https://localhost:8080/",
          "height": 314
        },
        "id": "WEOCKQI1h6TI",
        "outputId": "83e6bed6-4806-488a-ac7b-a3ca0f19b776"
      },
      "source": [
        "# Tresca\n",
        "# Pontos que definem o Hexágono de Tresca\n",
        "tresca=np.array([[sig_e,0],[sig_e,sig_e],[0,sig_e],\n",
        "                 [-sig_e,0],[-sig_e,-sig_e],[0,-sig_e],[sig_e,0]])\n",
        "plt.plot(tresca[:,0],tresca[:,1],'b--',label='Hexágono de Tresca');\n",
        "plt.plot(siga,sigb,'ro',label='Estado de tensão');\n",
        "plt.axis(\"tight\") # Fit the axis tightly to the plot\n",
        "plt.title(\"Critério de Tresca\",fontsize=26)\n",
        "plt.xlabel(r\"$\\sigma_{a}$\",fontsize=20)\n",
        "plt.ylabel(r\"$\\sigma_{b}$\",fontsize=20)\n",
        "legend = plt.legend(loc='upper left', shadow=True, fontsize=10)\n",
        "# Put a nicer background color on the legend.\n",
        "legend.get_frame().set_facecolor('yellow')\n",
        "\n",
        "plt.axis(\"equal\")\n",
        "plt.grid(\"on\")\n",
        "plt.show()"
      ],
      "execution_count": null,
      "outputs": [
        {
          "output_type": "display_data",
          "data": {
            "image/png": "[encoded data removed]",
            "text/plain": [
              "<Figure size 432x288 with 1 Axes>"
            ]
          },
          "metadata": {
            "tags": [],
            "needs_background": "light"
          }
        }
      ]
    },
    {
      "cell_type": "markdown",
      "metadata": {
        "id": "qDto8pz-i17A"
      },
      "source": [
        "## Critério de von Mises"
      ]
    },
    {
      "cell_type": "markdown",
      "metadata": {
        "id": "h_YLn93dfnqj"
      },
      "source": [
        "$ FS_{von Mises} = $ Fator de segurança segundo o critério de von Mises\n",
        "\n",
        "$\\sigma' =$  Tensão equivalente de von Mises\n",
        "\n",
        "$\\sigma_e =$ Limite de escoamento\n",
        "\n",
        "\n",
        "$$\\sigma'=\\sqrt{\\sigma_a^2+\\sigma_b^2-\\sigma_a \\sigma_b}$$\n",
        "\n",
        "$$ FS_{von Mises} = \\frac{\\sigma_e}{\\sigma'}$$\n",
        "\n"
      ]
    },
    {
      "cell_type": "code",
      "metadata": {
        "id": "OSvj1hYhg9w8"
      },
      "source": [
        "def calc_tensao_von_Mises(sigx,sigy,tauxy):\n",
        "  # Calcula a tensão equivalente de von Mises\n",
        "  sigmed=(sigx+sigy)/2\n",
        "  r=np.sqrt(((sigx-sigy)/2)**2+tauxy**2)\n",
        "  siga=sigmed+r\n",
        "  sigb=sigmed-r\n",
        "  sigmalinha=np.sqrt(siga**2+sigb**2-siga*sigb)\n",
        "  return sigmalinha"
      ],
      "execution_count": null,
      "outputs": []
    },
    {
      "cell_type": "code",
      "metadata": {
        "colab": {
          "base_uri": "https://localhost:8080/"
        },
        "id": "KKO4dZSriXTZ",
        "outputId": "c95a54f0-7cf0-46f0-8a13-b92fc15f93b0"
      },
      "source": [
        "siglinha=calc_tensao_von_Mises(sigx,sigy,tauxy)\n",
        "FSvonMises=sig_e/siglinha\n",
        "print(\"Tensão equivalente de von Mises = \", siglinha)\n",
        "print(\"Fator de segurança segundo o critério de von Mises = \", FSvonMises)"
      ],
      "execution_count": null,
      "outputs": [
        {
          "output_type": "stream",
          "text": [
            "Tensão equivalente de von Mises =  114.34596626029271\n",
            "Fator de segurança segundo o critério de von Mises =  2.1863473472331303\n"
          ],
          "name": "stdout"
        }
      ]
    },
    {
      "cell_type": "code",
      "metadata": {
        "colab": {
          "base_uri": "https://localhost:8080/",
          "height": 314
        },
        "id": "aX8fQT8UMJ1G",
        "outputId": "098121f5-dcdd-45bb-fe7c-7a7b2095033a"
      },
      "source": [
        "# von Mises\n",
        "# Semi-eixo maior da elipse de von Mises\n",
        "a = sig_e*np.sqrt(2)\n",
        "\n",
        "# Semi-eixo menor da elipse de von Mises\n",
        "b=sig_e*np.sqrt(2)/np.sqrt(3)\n",
        "\n",
        "# Número de pontos usados para plotar a elipse de von Mises\n",
        "npoints=100\n",
        "# Vetor theta para a equação paramétrica da elipse\n",
        "theta=np.linspace(0,2*np.pi,npoints)\n",
        "\n",
        "# Ângulo de inclinação da elipse de von Mises\n",
        "gamma = np.pi/4\n",
        "\n",
        "# Equação paramètrica da elipse inclinada\n",
        "sig_a=a*np.cos(theta)*np.cos(gamma)-b*np.sin(theta)*np.sin(gamma)\n",
        "sig_b=a*np.cos(theta)*np.sin(gamma) + b*np.sin(theta)*np.cos(gamma)\n",
        "\n",
        "# Gráficos\n",
        "fig, ax = plt.subplots()\n",
        "ax.plot(sig_a,sig_b,'g-',label='von Mises')\n",
        "ax.plot(tresca[:,0],tresca[:,1],'b--',label='Tresca')\n",
        "ax.plot(siga,sigb,'ro',label='Estado de tensão');\n",
        "\n",
        "ax.set_aspect('equal')\n",
        "ax.grid(True, which='both')\n",
        "\n",
        "ax.axhline(y=0, color='k')\n",
        "ax.axvline(x=0, color='k')\n",
        "\n",
        "plt.title(\"Critérios de Falha\",fontsize=26)\n",
        "plt.xlabel(r\"$\\sigma_{a}$\",fontsize=20)\n",
        "plt.ylabel(r\"$\\sigma_{b}$\",fontsize=20)\n",
        "legend = plt.legend(loc='upper left', shadow=True, fontsize=10)\n",
        "# Put a nicer background color on the legend.\n",
        "legend.get_frame().set_facecolor('yellow')\n",
        "plt.axis(\"equal\")\n",
        "plt.show()\n"
      ],
      "execution_count": null,
      "outputs": [
        {
          "output_type": "display_data",
          "data": {
            "image/png": "[encoded data removed]",
            "text/plain": [
              "<Figure size 432x288 with 1 Axes>"
            ]
          },
          "metadata": {
            "tags": [],
            "needs_background": "light"
          }
        }
      ]
    },
    {
      "cell_type": "code",
      "metadata": {
        "id": "EZhZRQjzsVri"
      },
      "source": [
        ""
      ],
      "execution_count": null,
      "outputs": []
    },
    {
      "cell_type": "markdown",
      "metadata": {
        "id": "xtnuG8Jb3iVp"
      },
      "source": [
        "# Maior diferença entre os critérios\n",
        "$$\\sigma_a=-\\sigma_b$$\n",
        "\n",
        "* Tresca\n",
        "$$\\sigma_a=\\sigma_b-\\sigma_e$$\n",
        "$$\\sigma_a=-\\sigma_b=\\frac{\\sigma_e}{2}$$\n",
        "\n",
        "\n",
        "* von Mises\n",
        "$$\\sigma_a^2+(-\\sigma_a)^2-2*\\sigma_a(-\\sigma_a)=\\sigma_e^2$$\n",
        "$$\\sigma_a=-\\sigma_b=\\frac{\\sigma_e}{\\sqrt(3)}$$\n",
        "$$\\sigma'=\\sqrt{\\frac{\\sigma_e^2}{4}+\\frac{\\sigma_e^2}{4}+\\frac{\\sigma_e^2}{4}}$$\n",
        "$$\\sigma'=\\frac{\\sqrt{3}\\sigma_e}{2}$$\n",
        "$$FS_{von Mises}=\\frac{\\sigma_e}{\\frac{\\sqrt{3}\\sigma_e}{2}}=\\frac{2}{\\sqrt{3}}=1,16$$"
      ]
    },
    {
      "cell_type": "code",
      "metadata": {
        "colab": {
          "base_uri": "https://localhost:8080/"
        },
        "id": "EFKh0mTr0fWV",
        "outputId": "96ab4306-9642-483c-83cf-0badbd9a2282"
      },
      "source": [
        "2/np.sqrt(3)"
      ],
      "execution_count": null,
      "outputs": [
        {
          "output_type": "execute_result",
          "data": {
            "text/plain": [
              "1.1547005383792517"
            ]
          },
          "metadata": {
            "tags": []
          },
          "execution_count": 30
        }
      ]
    },
    {
      "cell_type": "code",
      "metadata": {
        "id": "nC9VMLGk78Z7"
      },
      "source": [
        ""
      ],
      "execution_count": null,
      "outputs": []
    }
  ]
}