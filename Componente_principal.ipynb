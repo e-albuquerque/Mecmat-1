{
  "nbformat": 4,
  "nbformat_minor": 0,
  "metadata": {
    "colab": {
      "name": "Componente_principal.ipynb",
      "provenance": [],
      "authorship_tag": "ABX9TyPuTISLI9MKjwKcRLlFX5N7",
      "include_colab_link": true
    },
    "kernelspec": {
      "name": "python3",
      "display_name": "Python 3"
    }
  },
  "cells": [
    {
      "cell_type": "markdown",
      "metadata": {
        "id": "view-in-github",
        "colab_type": "text"
      },
      "source": [
        "<a href=\"https://colab.research.google.com/github/e-albuquerque/Mecmat-1/blob/main/Componente_principal.ipynb\" target=\"_parent\"><img src=\"https://colab.research.google.com/assets/colab-badge.svg\" alt=\"Open In Colab\"/></a>"
      ]
    },
    {
      "cell_type": "code",
      "metadata": {
        "id": "7BL5br7jj_y-"
      },
      "source": [
        "import numpy as np\r\n",
        "import matplotlib.pyplot as plt\r\n",
        "from numpy import linalg as LA"
      ],
      "execution_count": null,
      "outputs": []
    },
    {
      "cell_type": "code",
      "metadata": {
        "colab": {
          "base_uri": "https://localhost:8080/",
          "height": 298
        },
        "id": "9Puzu2sbjAzP",
        "outputId": "1110b8f2-61a4-42f7-9af8-fd1899c3ee77"
      },
      "source": [
        "Max=180\r\n",
        "a=40\r\n",
        "b=20\r\n",
        "xc=20\r\n",
        "yc=50\r\n",
        "theta=np.linspace(0,2*np.pi,num=Max)\r\n",
        "phi=-45*np.pi/180\r\n",
        "x=a*np.cos(theta)\r\n",
        "y=b*np.sin(theta)\r\n",
        "xr=x*np.cos(phi)-y*np.sin(phi)+xc\r\n",
        "yr=x*np.sin(phi)+y*np.cos(phi)+yc\r\n",
        "M=np.cov(xr,yr)\r\n",
        "V=LA.eig(M)\r\n",
        "plt.plot(xr,yr,'ro')\r\n",
        "cxx=M[0,0]\r\n",
        "cxy=M[0,1]\r\n",
        "cyy=M[1,1]\r\n",
        "Componente_principal11=(cxx+cyy)/2+np.sqrt(cxx**2-2*cxx*cyy+4*cxy**2+cyy**2)/2\r\n",
        "Componente_principal22=(cxx+cyy)/2-np.sqrt(cxx**2-2*cxx*cyy+4*cxy**2+cyy**2)/2\r\n",
        "print(np.sqrt(2*Componente_principal11))\r\n",
        "print(np.sqrt(2*Componente_principal22))"
      ],
      "execution_count": null,
      "outputs": [
        {
          "output_type": "stream",
          "text": [
            "40.22160834399562\n",
            "19.999999999999986\n"
          ],
          "name": "stdout"
        },
        {
          "output_type": "display_data",
          "data": {
            "image/png": "[encoded data removed]",
            "text/plain": [
              "<Figure size 432x288 with 1 Axes>"
            ]
          },
          "metadata": {
            "tags": [],
            "needs_background": "light"
          }
        }
      ]
    },
    {
      "cell_type": "code",
      "metadata": {
        "id": "e2wO3ts5jFOu"
      },
      "source": [
        ""
      ],
      "execution_count": null,
      "outputs": []
    }
  ]
}