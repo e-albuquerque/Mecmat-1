{
  "nbformat": 4,
  "nbformat_minor": 0,
  "metadata": {
    "colab": {
      "name": "Circulo_de_Mohr.ipynb",
      "provenance": [],
      "collapsed_sections": [],
      "authorship_tag": "ABX9TyOv5Exq5IPA1fZ/9sXS7I99",
      "include_colab_link": true
    },
    "kernelspec": {
      "name": "python3",
      "display_name": "Python 3"
    }
  },
  "cells": [
    {
      "cell_type": "markdown",
      "metadata": {
        "id": "view-in-github",
        "colab_type": "text"
      },
      "source": [
        "<a href=\"https://colab.research.google.com/github/e-albuquerque/Mecmat-1/blob/main/Circulo_de_Mohr.ipynb\" target=\"_parent\"><img src=\"https://colab.research.google.com/assets/colab-badge.svg\" alt=\"Open In Colab\"/></a>"
      ]
    },
    {
      "cell_type": "markdown",
      "metadata": {
        "id": "YfcnNZVE4cpH"
      },
      "source": [
        "## Equações para as tensões no sistema $(r,t)$\n",
        "\n",
        "---\n",
        "\n"
      ]
    },
    {
      "cell_type": "markdown",
      "metadata": {
        "id": "TcIYGX5d4mo1"
      },
      "source": [
        "\\begin{equation}\n",
        "\\sigma_{rr}=\\frac{(\\sigma_{xx}+\\sigma_{yy})}{2}+\\frac{(\\sigma_{xx}-\\sigma_{yy})}{2}\\cos(2\\theta)+\\tau_{xy}\\sin(2\\theta)\n",
        "\\end{equation}\n",
        "\n",
        "\n",
        "\n",
        "\n",
        "\\begin{equation}\n",
        "\\tau_{rt}=-\\frac{(\\sigma_{xx}-\\sigma_{yy})}{2}\\sin(2\\theta)+\\tau_{xy}\\cos(2\\theta)\n",
        "\\end{equation}"
      ]
    },
    {
      "cell_type": "markdown",
      "metadata": {
        "id": "Xe68Hk4dCvGq"
      },
      "source": [
        "# Círculo de Mohr"
      ]
    },
    {
      "cell_type": "markdown",
      "metadata": {
        "id": "1JENgbPpAvlU"
      },
      "source": [
        "\n",
        "\n",
        "*   Abscissa do centro do círculo de Mohr\n",
        "$$Oc = \\sigma_{med}=\\frac{\\sigma_{xx}+\\sigma_{yy}}{2}$$\n",
        "*   Raio do círculo de Morh\n",
        "\n",
        "\n",
        "\n",
        "$$ r = \\sqrt{\\left(\\frac{\\sigma_{xx}-\\sigma_{yy}}{2}\\right)^2+\\tau_{xy}^2}$$ \n",
        "\n",
        "\n",
        "*   Equação do círculo de Mohr\n",
        "$$\\left(\\sigma_{rr}-\\sigma_{med}\\right)^2+\\tau_{rt}^2=r^2$$\n",
        "\n",
        "\n",
        "\n",
        "*  Tensão normal máxima\n",
        "\n",
        "  \n",
        "$$\\sigma_1=\\sigma_{med}+r$$\n",
        "\n",
        "\n",
        "\n",
        " *  Tensão normal mínima\n",
        "\n",
        "$$\\sigma_2=\\sigma_{med}-r$$\n",
        "\n",
        "*  Tensão de cisalhamento máxima\n",
        "\n",
        "$$\\tau_{max}=r$$\n",
        "\n",
        "*  $\\sigma_1$ e $\\sigma_2$ são chamadas tensões principais\n",
        "\n",
        "\n",
        "\n",
        "\n"
      ]
    },
    {
      "cell_type": "code",
      "metadata": {
        "id": "xs85ZZbx4qU-"
      },
      "source": [
        "import numpy as np\n",
        "from numpy import linalg as LA\n",
        "import matplotlib.pyplot as plt"
      ],
      "execution_count": null,
      "outputs": []
    },
    {
      "cell_type": "code",
      "metadata": {
        "id": "oZ8Wnf6D4N8B"
      },
      "source": [
        "sigma_xx=6\n",
        "sigma_yy=4\n",
        "tau_xy=3"
      ],
      "execution_count": null,
      "outputs": []
    },
    {
      "cell_type": "code",
      "metadata": {
        "id": "o7iGc7toGL6l",
        "colab": {
          "base_uri": "https://localhost:8080/",
          "height": 314
        },
        "outputId": "5cc8fe56-8974-4d3c-f612-7a587336b790"
      },
      "source": [
        "npontos=100\n",
        "theta=np.linspace(0,np.pi,npontos)\n",
        "sigma_rr=(sigma_xx+sigma_yy)/2+(sigma_xx-sigma_yy)*np.cos(2*theta)/2+tau_xy*np.sin(2*theta)\n",
        "tau_rt=-(sigma_xx-sigma_yy)/2*np.sin(2*theta)+tau_xy*np.cos(2*theta)\n",
        "plt.plot(sigma_rr,tau_rt,'r-')\n",
        "plt.axis(\"tight\") # Fit the axis tightly to the plot\n",
        "plt.title(\"Tensões\",fontsize=26)\n",
        "plt.xlabel(r\"$\\sigma_{rr}$\",fontsize=20)\n",
        "plt.ylabel(r\"$\\tau_{r\\theta}$\",fontsize=20)\n",
        "plt.axis(\"equal\")\n",
        "plt.grid(\"on\")\n",
        "plt.show()"
      ],
      "execution_count": null,
      "outputs": [
        {
          "output_type": "display_data",
          "data": {
            "image/png": "[encoded data removed]",
            "text/plain": [
              "<Figure size 432x288 with 1 Axes>"
            ]
          },
          "metadata": {
            "tags": [],
            "needs_background": "light"
          }
        }
      ]
    },
    {
      "cell_type": "code",
      "metadata": {
        "id": "Rx61OqsxGSg_",
        "colab": {
          "base_uri": "https://localhost:8080/"
        },
        "outputId": "2935349c-0f1c-4054-8304-af4e8d34fd0b"
      },
      "source": [
        "sigma_med=(sigma_xx+sigma_yy)/2\n",
        "r=np.sqrt(((sigma_xx-sigma_yy)/2)**2+tau_xy**2)\n",
        "sigma_1=sigma_med+r\n",
        "sigma_2=sigma_med-r\n",
        "tau_max=r\n",
        "print(\"Abscissa do centro do círuclo de Morh: \",sigma_med)\n",
        "print(\"Raio do círculo de Mohr: \",r)\n",
        "print(\"Tensão normal máxima: \",sigma_1)\n",
        "print(\"Tensão normal mínima: \",sigma_2)\n",
        "print(\"Temsão de cisalhamento máxima: \",tau_max)\n"
      ],
      "execution_count": null,
      "outputs": [
        {
          "output_type": "stream",
          "text": [
            "Abscissa do centro do círuclo de Morh:  5.0\n",
            "Raio do círculo de Mohr:  3.1622776601683795\n",
            "Tensão normal máxima:  8.16227766016838\n",
            "Tensão normal mínima:  1.8377223398316205\n",
            "Temsão de cisalhamento máxima:  3.1622776601683795\n"
          ],
          "name": "stdout"
        }
      ]
    },
    {
      "cell_type": "code",
      "metadata": {
        "id": "Xi0Qg5LbHkSg",
        "colab": {
          "base_uri": "https://localhost:8080/"
        },
        "outputId": "7c9fbfa3-34b2-4288-dfb9-94331e0940f8"
      },
      "source": [
        "\n",
        "theta1=np.arctan(tau_xy/(sigma_xx-sigma_med))*180/np.pi/2\n",
        "print(\"theta1 = \",theta1)"
      ],
      "execution_count": null,
      "outputs": [
        {
          "output_type": "stream",
          "text": [
            "theta1 =  35.782525588538995\n"
          ],
          "name": "stdout"
        }
      ]
    },
    {
      "cell_type": "code",
      "metadata": {
        "id": "O5iATXVOIiO1",
        "colab": {
          "base_uri": "https://localhost:8080/"
        },
        "outputId": "fce7c254-1e5e-4472-9d2b-c6b73fc13f0a"
      },
      "source": [
        "theta2=np.arctan((sigma_xx-sigma_med)/tau_xy)*180/np.pi/2\n",
        "print(\"theta2 = \",theta2)"
      ],
      "execution_count": null,
      "outputs": [
        {
          "output_type": "stream",
          "text": [
            "theta2 =  9.217474411461005\n"
          ],
          "name": "stdout"
        }
      ]
    },
    {
      "cell_type": "markdown",
      "metadata": {
        "id": "rKt6V9iKB8OG"
      },
      "source": [
        "# Cálculo das tensões principais usando auto-valores e auto-vetores"
      ]
    },
    {
      "cell_type": "code",
      "metadata": {
        "id": "8kN6HVDObOnP",
        "colab": {
          "base_uri": "https://localhost:8080/",
          "height": 50
        },
        "outputId": "0800c893-6531-40b7-b441-1cdc8e191691"
      },
      "source": [
        "from IPython.display import display, Markdown,Latex\n",
        "# sigma = tensor de tensões\n",
        "sigma=np.array([[sigma_xx,tau_xy],[tau_xy,sigma_yy]])\n",
        "display(Markdown(rf'$\\sigma$ = {sigma}'))"
      ],
      "execution_count": null,
      "outputs": [
        {
          "output_type": "display_data",
          "data": {
            "text/markdown": "$\\sigma$ = [[6 3]\n [3 4]]",
            "text/plain": [
              "<IPython.core.display.Markdown object>"
            ]
          },
          "metadata": {
            "tags": []
          }
        }
      ]
    },
    {
      "cell_type": "markdown",
      "metadata": {
        "id": "8B_3a8dyCLrt"
      },
      "source": [
        "## Cálculo dos auto-valores e auto-vetores"
      ]
    },
    {
      "cell_type": "code",
      "metadata": {
        "id": "3QwOM_3LAmcD"
      },
      "source": [
        "w, v = LA.eig(sigma)"
      ],
      "execution_count": null,
      "outputs": []
    },
    {
      "cell_type": "code",
      "metadata": {
        "id": "2LC9qUvafQJV",
        "colab": {
          "base_uri": "https://localhost:8080/"
        },
        "outputId": "b0ee7a64-32e1-4c87-b69e-a10bb780cf2e"
      },
      "source": [
        "w"
      ],
      "execution_count": null,
      "outputs": [
        {
          "output_type": "execute_result",
          "data": {
            "text/plain": [
              "array([8.16227766, 1.83772234])"
            ]
          },
          "metadata": {
            "tags": []
          },
          "execution_count": 68
        }
      ]
    },
    {
      "cell_type": "code",
      "metadata": {
        "id": "67EgYA5DfS4c",
        "colab": {
          "base_uri": "https://localhost:8080/"
        },
        "outputId": "dbd4a73a-7717-4424-afbc-6ab7ab5adebb"
      },
      "source": [
        "v"
      ],
      "execution_count": null,
      "outputs": [
        {
          "output_type": "execute_result",
          "data": {
            "text/plain": [
              "array([[ 0.81124219, -0.58471028],\n",
              "       [ 0.58471028,  0.81124219]])"
            ]
          },
          "metadata": {
            "tags": []
          },
          "execution_count": 69
        }
      ]
    },
    {
      "cell_type": "code",
      "metadata": {
        "id": "ja8KjhqxBlqR",
        "colab": {
          "base_uri": "https://localhost:8080/"
        },
        "outputId": "c3e6a650-f924-4c52-df74-2f36c230fbbd"
      },
      "source": [
        "print(\"Primeiro auto-valor = \",w[0])\n",
        "print(\"Tensão normal máxima: \",sigma_1)\n",
        "print(\"Segundo auto-valor = \",w[1])\n",
        "print(\"Tensão normal mínima: \",sigma_2)"
      ],
      "execution_count": null,
      "outputs": [
        {
          "output_type": "stream",
          "text": [
            "Primeiro auto-valor =  8.16227766016838\n",
            "Tensão normal máxima:  8.16227766016838\n",
            "Segundo auto-valor =  1.837722339831621\n",
            "Tensão normal mínima:  1.8377223398316205\n"
          ],
          "name": "stdout"
        }
      ]
    },
    {
      "cell_type": "markdown",
      "metadata": {
        "id": "0YiStW-7Hnch"
      },
      "source": [
        "auto-vetores = $\\left[\\begin{array}{cc}\\cos\\theta_1 &\\sin\\theta_1\\\\ -\\sin\\theta_1&\\cos\\theta_1\\end{array}\\right]$"
      ]
    },
    {
      "cell_type": "code",
      "metadata": {
        "id": "YY1KeKBBBmW0",
        "colab": {
          "base_uri": "https://localhost:8080/"
        },
        "outputId": "f86c3f89-709d-48aa-d4ca-c595b1649c51"
      },
      "source": [
        "print('auto-vetores = ', v[0][0],'\\n              ',v[0][1])\n",
        "print('Cosseno e seno de theta1 = ', np.cos(theta1*np.pi/180),\n",
        "      '\\n                          ',-np.sin(theta1*np.pi/180))"
      ],
      "execution_count": null,
      "outputs": [
        {
          "output_type": "stream",
          "text": [
            "auto-vetores =  0.8112421851755609 \n",
            "               -0.584710284663765\n",
            "Cosseno e seno de theta1 =  0.8112421851755609 \n",
            "                           -0.584710284663765\n"
          ],
          "name": "stdout"
        }
      ]
    }
  ]
}