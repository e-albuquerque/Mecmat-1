{
  "nbformat": 4,
  "nbformat_minor": 0,
  "metadata": {
    "colab": {
      "name": "Ex_Criterios_de_falha.ipynb",
      "provenance": [],
      "collapsed_sections": [],
      "authorship_tag": "ABX9TyN0k2akvs6vlYTWOem2+D2a",
      "include_colab_link": true
    },
    "kernelspec": {
      "name": "python3",
      "display_name": "Python 3"
    }
  },
  "cells": [
    {
      "cell_type": "markdown",
      "metadata": {
        "id": "view-in-github",
        "colab_type": "text"
      },
      "source": [
        "<a href=\"https://colab.research.google.com/github/e-albuquerque/Mecmat-1/blob/main/Ex_Criterios_de_falha.ipynb\" target=\"_parent\"><img src=\"https://colab.research.google.com/assets/colab-badge.svg\" alt=\"Open In Colab\"/></a>"
      ]
    },
    {
      "cell_type": "markdown",
      "metadata": {
        "id": "fE-aE_Nyx4Ev"
      },
      "source": [
        "# Exercício 7.1 resolvido do Beer \n",
        "\n"
      ]
    },
    {
      "cell_type": "code",
      "metadata": {
        "id": "yF065x22CQJn"
      },
      "source": [
        "import numpy as np\n",
        "import matplotlib.pyplot as plt"
      ],
      "execution_count": null,
      "outputs": []
    },
    {
      "cell_type": "markdown",
      "metadata": {
        "id": "2kQAZge120kv"
      },
      "source": [
        "## Dados do exercício"
      ]
    },
    {
      "cell_type": "code",
      "metadata": {
        "id": "bOUgfQJ6CTmL",
        "colab": {
          "base_uri": "https://localhost:8080/"
        },
        "outputId": "e1af2a1b-2846-4cee-dd3d-6659c20f4af2"
      },
      "source": [
        "# Vetor braço para o cálculo do momento\n",
        "b=np.array([0,150,200])\n",
        "print(\"Vetor braço = \",b)\n",
        "# Vetor carga aplicada\n",
        "P=np.array([1e4,0,0])\n",
        "print(\"Vetor carga aplicada = \", P)"
      ],
      "execution_count": null,
      "outputs": [
        {
          "output_type": "stream",
          "text": [
            "Vetor braço =  [  0 150 200]\n",
            "Vetor carga aplicada =  [10000.     0.     0.]\n"
          ],
          "name": "stdout"
        }
      ]
    },
    {
      "cell_type": "markdown",
      "metadata": {
        "id": "pWZfdccf3AHE"
      },
      "source": [
        "## Cáculo das resultantes dos esforços internos na seção transversal que contém o ponto H"
      ]
    },
    {
      "cell_type": "code",
      "metadata": {
        "id": "jpnu_ZOgC9PL",
        "colab": {
          "base_uri": "https://localhost:8080/"
        },
        "outputId": "a1af40ff-d17a-4031-c7cf-e6e9b055d1e4"
      },
      "source": [
        "# Vetor momento = braço x carga\n",
        "M=np.cross(b,P)\n",
        "print(\"Vetor momento = \", M)"
      ],
      "execution_count": null,
      "outputs": [
        {
          "output_type": "stream",
          "text": [
            "Vetor momento =  [       0.  2000000. -1500000.]\n"
          ],
          "name": "stdout"
        }
      ]
    },
    {
      "cell_type": "code",
      "metadata": {
        "id": "noJJkzVkDMMG",
        "colab": {
          "base_uri": "https://localhost:8080/"
        },
        "outputId": "5df50f33-0ce5-42eb-8394-9b11dc3d587a"
      },
      "source": [
        "# Módulo do momento fletor na direção x\n",
        "Mf=np.abs(M[2])\n",
        "# Módulo do momento torçor\n",
        "T=np.abs(M[1])\n",
        "\n",
        "print(\"Módulo do momento fletor = \", Mf)\n",
        "print(\"Módulo do momento torçor = \",T)"
      ],
      "execution_count": null,
      "outputs": [
        {
          "output_type": "stream",
          "text": [
            "Módulo do momento fletor =  1500000.0\n",
            "Módulo do momento torçor =  2000000.0\n"
          ],
          "name": "stdout"
        }
      ]
    },
    {
      "cell_type": "markdown",
      "metadata": {
        "id": "G_7ATOU73bw8"
      },
      "source": [
        "## Tensões atuantes no ponto H (plano com normal paralela ao eixo x)"
      ]
    },
    {
      "cell_type": "code",
      "metadata": {
        "id": "PaJb7dy-KvBe",
        "colab": {
          "base_uri": "https://localhost:8080/"
        },
        "outputId": "3683d6d8-d2d5-4e28-f345-32372d72f450"
      },
      "source": [
        "# Diâmetro da seção transversal\n",
        "D=102\n",
        "# Diâmetro da seção transversal\n",
        "d=D-12\n",
        "# Momento de inércia da seção transversal\n",
        "I=np.pi*(D**4-d**4)/64\n",
        "print(\"Momento de inércia da seção transversal = \",I)"
      ],
      "execution_count": null,
      "outputs": [
        {
          "output_type": "stream",
          "text": [
            "Momento de inércia da seção transversal =  2092753.096632919\n"
          ],
          "name": "stdout"
        }
      ]
    },
    {
      "cell_type": "code",
      "metadata": {
        "id": "YC2jo0VTLGqM",
        "colab": {
          "base_uri": "https://localhost:8080/"
        },
        "outputId": "38767856-bd70-4227-cef2-5d9daf63666f"
      },
      "source": [
        "# Distância do ponto H até a linha neutra\n",
        "c=D/2\n",
        "# Tensão normal no ponto H devido ao momento fletor\n",
        "sigmaM=Mf*c/I\n",
        "print(\"Tensão normal no ponto H = \",sigmaM)"
      ],
      "execution_count": null,
      "outputs": [
        {
          "output_type": "stream",
          "text": [
            "Tensão normal no ponto H =  36.55471833876758\n"
          ],
          "name": "stdout"
        }
      ]
    },
    {
      "cell_type": "code",
      "metadata": {
        "id": "MMSfii2zwhdO",
        "colab": {
          "base_uri": "https://localhost:8080/"
        },
        "outputId": "bc18160f-6a99-4bee-b3d1-6509c4309649"
      },
      "source": [
        "# Raio da seção transversal\n",
        "R=D/2\n",
        "# Momento polar de inércia da seção transversal\n",
        "J=2*I\n",
        "print(\"Momento polar de inércia da seção transversal = \",J)\n",
        "# Tensão de cisalhamento devido ao momento torçor\n",
        "tauT=T*R/J\n",
        "print(\"Tensão de cisalhamento devido ao momento torçor = \",tauT)"
      ],
      "execution_count": null,
      "outputs": [
        {
          "output_type": "stream",
          "text": [
            "Momento polar de inércia da seção transversal =  4185506.193265838\n",
            "Tensão de cisalhamento devido ao momento torçor =  24.369812225845052\n"
          ],
          "name": "stdout"
        }
      ]
    },
    {
      "cell_type": "code",
      "metadata": {
        "colab": {
          "base_uri": "https://localhost:8080/"
        },
        "id": "BbFNKC_EueyF",
        "outputId": "c7b6f330-4ace-4692-cbe9-ab373d04b072"
      },
      "source": [
        "V=10e3\n",
        "r=d/2\n",
        "# Área da seção transversal\n",
        "A=np.pi*(D**2-d**2)/4\n",
        "print(\"Área da seção transversal = \",A)\n",
        "Q=2/3*(R**3-r**3)\n",
        "print(\"Primeiro momento = \",Q)\n",
        "t=12\n",
        "tauV=V*Q/I/t\n",
        "print(\"Tensão de cisalhamento devido ao esforço cortante = \",tauV)"
      ],
      "execution_count": null,
      "outputs": [
        {
          "output_type": "stream",
          "text": [
            "Área da seção transversal =  1809.5573684677208\n",
            "Primeiro momento =  27684.0\n",
            "Tensão de cisalhamento devido ao esforço cortante =  11.02375623627932\n"
          ],
          "name": "stdout"
        }
      ]
    },
    {
      "cell_type": "markdown",
      "metadata": {
        "id": "Yc22b4bU3p8y"
      },
      "source": [
        "## Fator de segurança no ponto H"
      ]
    },
    {
      "cell_type": "code",
      "metadata": {
        "colab": {
          "base_uri": "https://localhost:8080/"
        },
        "id": "7_nVXr7pyzgc",
        "outputId": "5fdbc322-abd6-489d-9ed0-c23c26e0775b"
      },
      "source": [
        "sigma=0\n",
        "sigmae=200\n",
        "tau=tauV+tauT\n",
        "# Abscissa do centro do círculo do Mohr\n",
        "sigma_med=sigma/2\n",
        "# Raio do círculo de Mohr\n",
        "r=np.sqrt((sigma/2)**2+tau**2)\n",
        "sigmaa=sigma_med+r\n",
        "sigmab=sigma_med-r\n",
        "print(\"Abscissa do centro do círculo do Mohr = \",sigma_med)\n",
        "print(\"Raio do círculo de Mohr = \",r)\n",
        "taumax=r\n",
        "taue=sigmae/2\n",
        "FSTresca=taue/taumax\n",
        "print(\"Fator de segurança segundo o critério de Tresca = \",FSTresca)\n",
        "sigmalinha=np.sqrt(sigmaa**2+sigmab**2-sigmaa*sigmab)\n",
        "FSvonMises=sigmae/sigmalinha\n",
        "print(\"Tensão equivalente de von Mises = \",sigmalinha)\n",
        "print(\"Fator de segurança segundo o critério de von Mises = \",FSvonMises)\n",
        "print(\"Razão entre os fatores de segurança = \",FSvonMises/FSTresca)"
      ],
      "execution_count": null,
      "outputs": [
        {
          "output_type": "stream",
          "text": [
            "Abscissa do centro do círculo do Mohr =  0.0\n",
            "Raio do círculo de Mohr =  35.39356846212437\n",
            "Fator de segurança segundo o critério de Tresca =  2.825372075918616\n",
            "Tensão equivalente de von Mises =  61.303458837566865\n",
            "Fator de segurança segundo o critério de von Mises =  3.2624586571849297\n",
            "Razão entre os fatores de segurança =  1.1547005383792517\n"
          ],
          "name": "stdout"
        }
      ]
    },
    {
      "cell_type": "markdown",
      "metadata": {
        "id": "r-FtSs7dMc1b"
      },
      "source": [
        "# Fator de segurança para o ponto K"
      ]
    },
    {
      "cell_type": "code",
      "metadata": {
        "id": "jekLbC07ykbF",
        "colab": {
          "base_uri": "https://localhost:8080/"
        },
        "outputId": "36336385-6e06-43e9-97d9-e4dc887d2612"
      },
      "source": [
        "sigma=-sigmaM\n",
        "tau=tauT\n",
        "# Abscissa do centro do círculo do Mohr\n",
        "sigma_med=sigma/2\n",
        "# Raio do círculo de Mohr\n",
        "r=np.sqrt((sigma/2)**2+tau**2)\n",
        "sigmaa=sigma_med+r\n",
        "sigmab=sigma_med-r\n",
        "print(\"Abscissa do centro do círculo do Mohr = \",sigma_med)\n",
        "print(\"Raio do círculo de Mohr = \",r)\n",
        "print(\"sigmaa = \",sigmaa)\n",
        "print(\"sigmab = \",sigmab)\n",
        "taumax=r\n",
        "taue=sigmae/2\n",
        "FSTresca=taue/taumax\n",
        "print(\"Fator de segurança segundo o critério de Tresca = \",FSTresca)\n",
        "sigmalinha=np.sqrt(sigmaa**2+sigmab**2-sigmaa*sigmab)\n",
        "FSvonMises=sigmae/sigmalinha\n",
        "print(\"Tensão equivalente de von Mises = \",sigmalinha)\n",
        "print(\"Fator de segurança segundo o critério de von Mises = \",FSvonMises)\n",
        "print(\"Razão entre os fatores de segurança = \",FSvonMises/FSTresca)"
      ],
      "execution_count": null,
      "outputs": [
        {
          "output_type": "stream",
          "text": [
            "Abscissa do centro do círculo do Mohr =  -18.27735916938379\n",
            "Raio do círculo de Mohr =  30.462265282306316\n",
            "sigmaa =  12.184906112922526\n",
            "sigmab =  -48.739624451690105\n",
            "Fator de segurança segundo o critério de Tresca =  3.282749955502618\n",
            "Tensão equivalente de von Mises =  55.83825459839761\n",
            "Fator de segurança segundo o critério de von Mises =  3.5817738473103957\n",
            "Razão entre os fatores de segurança =  1.091089451179962\n"
          ],
          "name": "stdout"
        }
      ]
    },
    {
      "cell_type": "code",
      "metadata": {
        "id": "pivHNqYcMtdJ"
      },
      "source": [
        ""
      ],
      "execution_count": null,
      "outputs": []
    }
  ]
}