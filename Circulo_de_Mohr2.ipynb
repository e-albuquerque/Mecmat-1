{
  "nbformat": 4,
  "nbformat_minor": 0,
  "metadata": {
    "colab": {
      "name": "Circulo_de_Mohr2.ipynb",
      "provenance": [],
      "collapsed_sections": [],
      "authorship_tag": "ABX9TyMkyLyO4AocfSpvABnlCanQ",
      "include_colab_link": true
    },
    "kernelspec": {
      "name": "python3",
      "display_name": "Python 3"
    }
  },
  "cells": [
    {
      "cell_type": "markdown",
      "metadata": {
        "id": "view-in-github",
        "colab_type": "text"
      },
      "source": [
        "<a href=\"https://colab.research.google.com/github/e-albuquerque/Mecmat-1/blob/main/Circulo_de_Mohr2.ipynb\" target=\"_parent\"><img src=\"https://colab.research.google.com/assets/colab-badge.svg\" alt=\"Open In Colab\"/></a>"
      ]
    },
    {
      "cell_type": "markdown",
      "metadata": {
        "id": "sIKQ9p4Xcbpf"
      },
      "source": [
        "\n",
        "## Equações para as tensões no sistema $(r,t)$\n",
        "---\n",
        "\n"
      ]
    },
    {
      "cell_type": "markdown",
      "metadata": {
        "id": "z50QqE3hcXJ0"
      },
      "source": [
        "\\begin{equation}\n",
        "\\sigma_{rr}=\\frac{(\\sigma_{xx}+\\sigma_{yy})}{2}+\\frac{(\\sigma_{xx}-\\sigma_{yy})}{2}\\cos(2\\theta)+\\tau_{xy}\\sin(2\\theta)\n",
        "\\end{equation}\n",
        "\n",
        "\n",
        "\n",
        "\n",
        "\\begin{equation}\n",
        "\\tau_{rt}=-\\frac{(\\sigma_{xx}-\\sigma_{yy})}{2}\\sin(2\\theta)+\\tau_{xy}\\cos(2\\theta)\n",
        "\\end{equation}"
      ]
    },
    {
      "cell_type": "markdown",
      "metadata": {
        "id": "em06RoUcczBk"
      },
      "source": [
        "\n",
        "*   Abscissa do centro do círculo de Mohr\n",
        "$$\\sigma_{med}=\\frac{\\sigma_{xx}+\\sigma_{yy}}{2}$$\n",
        "*   Raio do círculo de Morh\n",
        "\n",
        "\n",
        "\n",
        "$$ r = \\sqrt{\\left(\\frac{\\sigma_{xx}-\\sigma_{yy}}{2}\\right)^2+\\tau_{xy}^2}$$ \n",
        "\n",
        "\n",
        "*   Equação do círculo de Mohr\n",
        "$$\\left(\\sigma_{rr}-\\sigma_{med}\\right)^2+\\tau_{rt}^2=r^2$$\n",
        "\n",
        "\n",
        "\n",
        "*  Tensão normal máxima\n",
        "\n",
        "  \n",
        "$$\\sigma_1=\\sigma_{med}+r$$\n",
        "\n",
        "\n",
        "\n",
        " *  Tensão normal mínima\n",
        "\n",
        "$$\\sigma_2=\\sigma_{med}-r$$\n",
        "\n",
        "*  Tensão de cisalhamento máxima\n",
        "\n",
        "$$\\tau_{max}=r$$\n",
        "\n",
        "*  $\\sigma_1$ e $\\sigma_2$ são chamadas tensões principais\n",
        "\n",
        "\n",
        "*   Plano principal 1\n",
        "\n",
        "\n",
        "\n",
        "> > Plano onde atua a tensão principal $\\sigma_1$ (tensão normal máxima).\n",
        "\n",
        "> > No plano principal 1, tem-se $\\sigma_{rr}=\\sigma_1$, $\\tau_{rt}=0$ e $\\theta=\\theta_1$\n",
        "\n",
        "$$\\theta_1=\\frac{1}{2}\\arctan\\frac{\\tau_{xy}}{\\sigma_x-\\sigma_{med}}$$\n",
        "\n",
        "> > Note que:\n",
        "\n",
        "$$ \\sigma_{xx} = r \\cos 2\\theta_1$$\n",
        "$$ \\tau_{xy} = r \\sin 2\\theta_1$$\n",
        "$$ \\sigma_{xx}-\\sigma_{yy} = 2 r \\cos 2\\theta_1$$\n",
        "\n",
        "\n",
        "\n",
        "*   Desta forma, as tensões $\\sigma_{rr}$ e $\\tau_{rt}$ podem ser reescritas como:\n",
        "\n",
        "$$\\sigma_{rr}=\\sigma_{med}+r \\cos(2\\theta_1)\\cos(2\\theta)+r\\sin 2\\theta_1 \\cos 2\\theta$$\n",
        "\n",
        "$$\\tau_{rt}=-r\\cos 2\\theta_1\\sin 2\\theta+r\\sin 2\\theta_1 \\cos 2\\theta$$\n",
        "\n",
        "* Usando as relações trigonométricas, tem-se:\n",
        "\n",
        "$$ \\sigma_{rr}=\\sigma_{med}+ r \\cos(2\\theta_1-2\\theta)$$\n",
        "\n",
        "$$ \\tau_{rt} = r\\sin(2\\theta_1-2\\theta)$$\n",
        "\n",
        "* Fazendo \n",
        "\n",
        "$$\\gamma = 2\\theta_1-2\\theta$$ \n",
        "\n",
        ">>tem-se:\n",
        "\n",
        "\n",
        "$$ \\sigma_{rr}=\\sigma_{med}+ r \\cos\\gamma$$\n",
        "\n",
        "$$ \\tau_{rt} = r\\sin \\gamma $$\n",
        "\n",
        ">> que é a equação paramétrica do círculo de Mohr. O círculo de Mohr tem centro em $(\\sigma_{med},0)$ e raio $r$.\n",
        "\n",
        "* Note que, $\\gamma$ diminui com o aumento de $\\theta$. Isso significa que quando $\\theta$ roda no sentido positivo (anti-horário), $\\gamma$ roda no sentido negativo (horário) e vice-versa.\n"
      ]
    },
    {
      "cell_type": "code",
      "metadata": {
        "id": "wIPPsKIncBx8"
      },
      "source": [
        "import numpy as np\n",
        "import matplotlib.pyplot as plt"
      ],
      "execution_count": null,
      "outputs": []
    },
    {
      "cell_type": "code",
      "metadata": {
        "id": "yCedMn9XcanF"
      },
      "source": [
        "sigma_xx=8\n",
        "sigma_yy=4\n",
        "tau_xy=3"
      ],
      "execution_count": null,
      "outputs": []
    },
    {
      "cell_type": "code",
      "metadata": {
        "id": "Y_3XiZ9DuSU3"
      },
      "source": [
        "def calc_sig(theta,sigma_xx,sigma_yy,tau_xy):\n",
        "  # function que calcula sigma_rr e tau_rt a partir de theta,\n",
        "  #     sigma_xx e tau_xy\n",
        "  sigma_med=(sigma_xx+sigma_yy)/2\n",
        "  r=np.sqrt(((sigma_xx-sigma_yy)/2)**2+tau_xy**2)\n",
        "  theta1=np.arctan2(tau_xy,sigma_xx-sigma_med)/2\n",
        "  gamma=2*theta1-2*theta\n",
        "  sigma_rr=sigma_med+r*np.cos(gamma)\n",
        "  tau_rt=r*np.sin(gamma)\n",
        "  return sigma_rr,tau_rt"
      ],
      "execution_count": null,
      "outputs": []
    },
    {
      "cell_type": "code",
      "metadata": {
        "id": "YGl-SyF2k9Vn",
        "colab": {
          "base_uri": "https://localhost:8080/",
          "height": 314
        },
        "outputId": "36cb96f0-e3b2-4e96-aefc-5be519485f57"
      },
      "source": [
        "npontos=100\n",
        "theta=np.linspace(0,np.pi,npontos)\n",
        "sigma_rr,tau_rt=calc_sig(theta,sigma_xx,sigma_yy,tau_xy)\n",
        "sigma_med=(sigma_xx+sigma_yy)/2\n",
        "theta1=np.arctan2(tau_xy,sigma_xx-sigma_med)/2\n",
        "r=np.sqrt(((sigma_xx-sigma_yy)/2)**2+tau_xy**2)\n",
        "sigma_1=sigma_med+r\n",
        "sigma_2=sigma_med-r\n",
        "tau_max=repr\n",
        "\n",
        "ang=20\n",
        "sigma_ang,tau_ang=calc_sig(ang*np.pi/180,sigma_xx,sigma_yy,tau_xy)\n",
        "\n",
        "plt.plot(sigma_rr,tau_rt,'r-',label='Círculo de Mohr')\n",
        "plt.plot(sigma_xx,tau_xy,'bo',label=r'$\\theta = 0^o$')\n",
        "plt.plot(sigma_yy,-tau_xy,'kd',label=r'$\\theta = 90^o$')\n",
        "plt.plot(sigma_med,0,'m+',label='Origem')\n",
        "plt.plot(sigma_1,0,'gs',label=rf'$\\theta = \\theta_1={theta1*180/np.pi}^o$')\n",
        "plt.plot(sigma_ang,tau_ang,'c*',label=rf'$\\theta = {ang}^o$')\n",
        "plt.axis(\"tight\") # Fit the axis tightly to the plot\n",
        "plt.title(\"Círculo de Mohr\",fontsize=26)\n",
        "plt.xlabel(r\"$\\sigma_{rr}$\",fontsize=20)\n",
        "plt.ylabel(r\"$\\tau_{rt}$\",fontsize=20)\n",
        "legend = plt.legend(loc='upper left', shadow=True, fontsize=10)\n",
        "# Put a nicer background color on the legend.\n",
        "legend.get_frame().set_facecolor('yellow')\n",
        "\n",
        "plt.axis(\"equal\")\n",
        "plt.grid(\"on\")\n",
        "plt.show()"
      ],
      "execution_count": null,
      "outputs": [
        {
          "output_type": "display_data",
          "data": {
            "image/png": "[encoded data removed]",
            "text/plain": [
              "<Figure size 432x288 with 1 Axes>"
            ]
          },
          "metadata": {
            "tags": [],
            "needs_background": "light"
          }
        }
      ]
    },
    {
      "cell_type": "code",
      "metadata": {
        "id": "xSrVgL60jfn9",
        "colab": {
          "base_uri": "https://localhost:8080/"
        },
        "outputId": "a4dd71ec-69d2-4f43-9c20-6eeab90147fa"
      },
      "source": [
        "sigma_1"
      ],
      "execution_count": null,
      "outputs": [
        {
          "output_type": "execute_result",
          "data": {
            "text/plain": [
              "9.60555127546399"
            ]
          },
          "metadata": {
            "tags": []
          },
          "execution_count": 6
        }
      ]
    },
    {
      "cell_type": "code",
      "metadata": {
        "id": "5Ym8FqWRrP17",
        "colab": {
          "base_uri": "https://localhost:8080/"
        },
        "outputId": "1efed6f3-94d4-4942-f96f-e5d18bd50c10"
      },
      "source": [
        "sigma_2"
      ],
      "execution_count": null,
      "outputs": [
        {
          "output_type": "execute_result",
          "data": {
            "text/plain": [
              "2.394448724536011"
            ]
          },
          "metadata": {
            "tags": []
          },
          "execution_count": 7
        }
      ]
    },
    {
      "cell_type": "code",
      "metadata": {
        "id": "NhWBEryErR3g",
        "colab": {
          "base_uri": "https://localhost:8080/"
        },
        "outputId": "7a1ae4ff-1f84-474f-a5cd-696ebaa18a0f"
      },
      "source": [
        "sigma_ang"
      ],
      "execution_count": null,
      "outputs": [
        {
          "output_type": "execute_result",
          "data": {
            "text/plain": [
              "9.460451715297573"
            ]
          },
          "metadata": {
            "tags": []
          },
          "execution_count": 8
        }
      ]
    },
    {
      "cell_type": "code",
      "metadata": {
        "id": "jtBTyWter2Ge",
        "colab": {
          "base_uri": "https://localhost:8080/"
        },
        "outputId": "a4c3300a-47d8-4d21-ea8c-e7e4208ccd47"
      },
      "source": [
        "tau_ang"
      ],
      "execution_count": null,
      "outputs": [
        {
          "output_type": "execute_result",
          "data": {
            "text/plain": [
              "1.0125581099838554"
            ]
          },
          "metadata": {
            "tags": []
          },
          "execution_count": 9
        }
      ]
    },
    {
      "cell_type": "code",
      "metadata": {
        "id": "NNRU21Grr4t-",
        "colab": {
          "base_uri": "https://localhost:8080/"
        },
        "outputId": "51f50b58-3f36-46ba-c9fe-a3f26bf40e3c"
      },
      "source": [
        "theta1*180/np.pi"
      ],
      "execution_count": null,
      "outputs": [
        {
          "output_type": "execute_result",
          "data": {
            "text/plain": [
              "28.154966237010107"
            ]
          },
          "metadata": {
            "tags": []
          },
          "execution_count": 10
        }
      ]
    },
    {
      "cell_type": "code",
      "metadata": {
        "id": "BvKG4jw3r-xg",
        "colab": {
          "base_uri": "https://localhost:8080/"
        },
        "outputId": "c0f54bb8-37d7-4573-a18f-ee1b88048a49"
      },
      "source": [
        "sigma_med+r*np.cos(2*theta1-2*20*np.pi/180)"
      ],
      "execution_count": null,
      "outputs": [
        {
          "output_type": "execute_result",
          "data": {
            "text/plain": [
              "9.460451715297573"
            ]
          },
          "metadata": {
            "tags": []
          },
          "execution_count": 11
        }
      ]
    },
    {
      "cell_type": "code",
      "metadata": {
        "id": "SEPryJ-5tzjR",
        "colab": {
          "base_uri": "https://localhost:8080/"
        },
        "outputId": "2ef17eba-90ec-4875-c7d2-e3fb5f9302aa"
      },
      "source": [
        "r*np.sin(2*theta1-2*20*np.pi/180)"
      ],
      "execution_count": null,
      "outputs": [
        {
          "output_type": "execute_result",
          "data": {
            "text/plain": [
              "1.0125581099838554"
            ]
          },
          "metadata": {
            "tags": []
          },
          "execution_count": 13
        }
      ]
    },
    {
      "cell_type": "code",
      "metadata": {
        "id": "8yAGXRoguOkL"
      },
      "source": [
        ""
      ],
      "execution_count": null,
      "outputs": []
    }
  ]
}