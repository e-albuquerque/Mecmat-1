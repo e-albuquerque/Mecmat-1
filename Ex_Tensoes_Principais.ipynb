{
  "nbformat": 4,
  "nbformat_minor": 0,
  "metadata": {
    "colab": {
      "name": "Ex_Tensoes_Principais.ipynb",
      "provenance": [],
      "collapsed_sections": [],
      "authorship_tag": "ABX9TyNszWqARFvj6xq+ccaDAAoQ",
      "include_colab_link": true
    },
    "kernelspec": {
      "name": "python3",
      "display_name": "Python 3"
    }
  },
  "cells": [
    {
      "cell_type": "markdown",
      "metadata": {
        "id": "view-in-github",
        "colab_type": "text"
      },
      "source": [
        "<a href=\"https://colab.research.google.com/github/e-albuquerque/Mecmat-1/blob/main/Ex_Tensoes_Principais.ipynb\" target=\"_parent\"><img src=\"https://colab.research.google.com/assets/colab-badge.svg\" alt=\"Open In Colab\"/></a>"
      ]
    },
    {
      "cell_type": "markdown",
      "metadata": {
        "id": "fE-aE_Nyx4Ev"
      },
      "source": [
        "# Exercício 7.1 resolvido do Beer \n",
        "\n"
      ]
    },
    {
      "cell_type": "code",
      "metadata": {
        "id": "yF065x22CQJn"
      },
      "source": [
        "import numpy as np\n",
        "import matplotlib.pyplot as plt"
      ],
      "execution_count": null,
      "outputs": []
    },
    {
      "cell_type": "markdown",
      "metadata": {
        "id": "2kQAZge120kv"
      },
      "source": [
        "## Dados do exercício"
      ]
    },
    {
      "cell_type": "code",
      "metadata": {
        "id": "bOUgfQJ6CTmL",
        "colab": {
          "base_uri": "https://localhost:8080/"
        },
        "outputId": "112e6e92-fed9-4988-c7be-cac990a94143"
      },
      "source": [
        "# Coordenadas do ponto onde a carga é aplicada\n",
        "A=np.array([18,14,0])\n",
        "# Coordenadas do centro da seção transversal que contém \n",
        "#   o ponto H\n",
        "B=np.array([0,4,0])\n",
        "# Vetor braço para o cálculo do momento\n",
        "b=A-B\n",
        "print(\"Vetor braço = \",b)\n",
        "# Vetor carga aplicada\n",
        "P=np.array([0,0,-150])\n",
        "print(\"Vetor carga aplicada = \", P)"
      ],
      "execution_count": null,
      "outputs": [
        {
          "output_type": "stream",
          "text": [
            "Vetor braço =  [18 10  0]\n",
            "Vetor carga aplicada =  [   0    0 -150]\n"
          ],
          "name": "stdout"
        }
      ]
    },
    {
      "cell_type": "markdown",
      "metadata": {
        "id": "pWZfdccf3AHE"
      },
      "source": [
        "## Cáculo das resultantes dos esforços internos na seção transversal que contém o ponto H"
      ]
    },
    {
      "cell_type": "code",
      "metadata": {
        "id": "jpnu_ZOgC9PL",
        "colab": {
          "base_uri": "https://localhost:8080/"
        },
        "outputId": "275afca4-f97d-4a03-c961-cfa080724f46"
      },
      "source": [
        "# Vetor momento = braço x carga\n",
        "M=np.cross(b,P)\n",
        "print(\"Vetor momento = \", M)"
      ],
      "execution_count": null,
      "outputs": [
        {
          "output_type": "stream",
          "text": [
            "Vetor momento =  [-1500  2700     0]\n"
          ],
          "name": "stdout"
        }
      ]
    },
    {
      "cell_type": "code",
      "metadata": {
        "id": "noJJkzVkDMMG",
        "colab": {
          "base_uri": "https://localhost:8080/"
        },
        "outputId": "c6b311b1-b396-441b-f626-f5eb10d0507b"
      },
      "source": [
        "# Módulo do momento fletor na direção x\n",
        "Mf=np.abs(M[0])\n",
        "# Módulo do momento torçor\n",
        "T=np.abs(M[1])\n",
        "\n",
        "print(\"Módulo do momento fletor = \", Mf)\n",
        "print(\"Módulo do momento torçor = \",T)"
      ],
      "execution_count": null,
      "outputs": [
        {
          "output_type": "stream",
          "text": [
            "Módulo do momento fletor =  1500\n",
            "Módulo do momento torçor =  2700\n"
          ],
          "name": "stdout"
        }
      ]
    },
    {
      "cell_type": "markdown",
      "metadata": {
        "id": "G_7ATOU73bw8"
      },
      "source": [
        "## Tensões atuantes no ponto H (plano com normal paralela ao eixo x)"
      ]
    },
    {
      "cell_type": "code",
      "metadata": {
        "id": "PaJb7dy-KvBe",
        "colab": {
          "base_uri": "https://localhost:8080/"
        },
        "outputId": "868375cc-2e72-43d5-cbf3-c789e3814ce5"
      },
      "source": [
        "# Diâmetro da seção transversal\n",
        "d=1.2\n",
        "# Momento de inércia da seção transversal\n",
        "I=np.pi*d**4/64\n",
        "# Área da seção transversal\n",
        "A=np.pi*d**2/4\n",
        "print(\"Momento de inércia da seção transversal = \",I)\n",
        "print(\"Área da seção transversal = \",A)"
      ],
      "execution_count": null,
      "outputs": [
        {
          "output_type": "stream",
          "text": [
            "Momento de inércia da seção transversal =  0.10178760197630929\n",
            "Área da seção transversal =  1.1309733552923256\n"
          ],
          "name": "stdout"
        }
      ]
    },
    {
      "cell_type": "code",
      "metadata": {
        "id": "YC2jo0VTLGqM",
        "colab": {
          "base_uri": "https://localhost:8080/"
        },
        "outputId": "c898efde-24d8-4e3a-f4e7-77a1a623b1f7"
      },
      "source": [
        "# Distância do ponto H até a linha neutra\n",
        "c=d/2\n",
        "# Tensão normal no ponto H devido ao momento fletor\n",
        "sigma=Mf*c/I\n",
        "print(\"Tensão normal no ponto H = \",sigma)"
      ],
      "execution_count": null,
      "outputs": [
        {
          "output_type": "stream",
          "text": [
            "Tensão normal no ponto H =  8841.941282883075\n"
          ],
          "name": "stdout"
        }
      ]
    },
    {
      "cell_type": "code",
      "metadata": {
        "id": "MMSfii2zwhdO",
        "colab": {
          "base_uri": "https://localhost:8080/"
        },
        "outputId": "9bd68662-ae4e-44f2-abfc-c1e2dc9e9100"
      },
      "source": [
        "# Raio da seção transversal\n",
        "R=d/2\n",
        "# Momento polar de inércia da seção transversal\n",
        "J=2*I\n",
        "print(\"Momento polar de inércia da seção transversal = \",J)\n",
        "# Tensão de cisalhamento devido ao momento torçor\n",
        "tau=T*R/J\n",
        "print(\"Tensão de cisalhamento devido ao momento torçor = \",tau)"
      ],
      "execution_count": null,
      "outputs": [
        {
          "output_type": "stream",
          "text": [
            "Momento polar de inércia da seção transversal =  0.20357520395261858\n",
            "Tensão de cisalhamento devido ao momento torçor =  7957.747154594767\n"
          ],
          "name": "stdout"
        }
      ]
    },
    {
      "cell_type": "markdown",
      "metadata": {
        "id": "Yc22b4bU3p8y"
      },
      "source": [
        "## Círculo de Mohr"
      ]
    },
    {
      "cell_type": "code",
      "metadata": {
        "id": "jekLbC07ykbF",
        "colab": {
          "base_uri": "https://localhost:8080/"
        },
        "outputId": "4a037f6a-c5c5-4efa-bc07-f14577728f4b"
      },
      "source": [
        "# Abscissa do centro do círculo do Mohr\n",
        "sigma_med=sigma/2\n",
        "# Raio do círculo de Mohr\n",
        "r=np.sqrt((sigma/2)**2+tau**2)\n",
        "print(\"Abscissa do centro do círculo do Mohr = \",sigma_med)\n",
        "print(\"Raio do círculo de Mohr = \",r)"
      ],
      "execution_count": null,
      "outputs": [
        {
          "output_type": "stream",
          "text": [
            "Abscissa do centro do círculo do Mohr =  4420.970641441538\n",
            "Raio do círculo de Mohr =  9103.335717688826\n"
          ],
          "name": "stdout"
        }
      ]
    },
    {
      "cell_type": "markdown",
      "metadata": {
        "id": "LRvHTy1m321D"
      },
      "source": [
        "# Tensões principais"
      ]
    },
    {
      "cell_type": "code",
      "metadata": {
        "id": "QIqys7Zs8dta",
        "colab": {
          "base_uri": "https://localhost:8080/"
        },
        "outputId": "20fddcc8-49c0-4978-ef3d-b4148961e974"
      },
      "source": [
        "# Tensão normal máxima\n",
        "sigma_1=sigma_med+r\n",
        "# Tensão normal mínima\n",
        "sigma_2=sigma_med-r\n",
        "print(\"Tensão normal máxima = \",sigma_1)\n",
        "print(\"Tensão normal mínima = \",sigma_2)"
      ],
      "execution_count": null,
      "outputs": [
        {
          "output_type": "stream",
          "text": [
            "Tensão normal máxima =  13524.306359130363\n",
            "Tensão normal mínima =  -4682.365076247288\n"
          ],
          "name": "stdout"
        }
      ]
    },
    {
      "cell_type": "markdown",
      "metadata": {
        "id": "PMYTwGIX38We"
      },
      "source": [
        "## Plano principal 1"
      ]
    },
    {
      "cell_type": "code",
      "metadata": {
        "id": "yaV5mjyt915n",
        "colab": {
          "base_uri": "https://localhost:8080/"
        },
        "outputId": "4e1363ee-e73e-40dc-a940-d3021611fb18"
      },
      "source": [
        "# Ângulo entre o eixo r e o eixo x\n",
        "theta_1=1/2*np.arctan2(tau,0-sigma_med)*180/np.pi\n",
        "print(\"Ângulo entre o eixo r e o eixo x = \",theta_1)"
      ],
      "execution_count": null,
      "outputs": [
        {
          "output_type": "stream",
          "text": [
            "Ângulo entre o eixo r e o eixo x =  59.52730204953857\n"
          ],
          "name": "stdout"
        }
      ]
    }
  ]
}